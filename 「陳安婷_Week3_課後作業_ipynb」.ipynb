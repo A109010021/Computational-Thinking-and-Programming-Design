{
  "nbformat": 4,
  "nbformat_minor": 0,
  "metadata": {
    "colab": {
      "name": "「陳安婷-Week3-課後作業.ipynb」",
      "provenance": [],
      "authorship_tag": "ABX9TyOgW0VXTUO/MKg6pyXKq8Sh",
      "include_colab_link": true
    },
    "kernelspec": {
      "name": "python3",
      "display_name": "Python 3"
    }
  },
  "cells": [
    {
      "cell_type": "markdown",
      "metadata": {
        "id": "view-in-github",
        "colab_type": "text"
      },
      "source": [
        "<a href=\"https://colab.research.google.com/github/A109010021/Computational-Thinking-and-Programming-Design/blob/main/%E3%80%8C%E9%99%B3%E5%AE%89%E5%A9%B7_Week3_%E8%AA%B2%E5%BE%8C%E4%BD%9C%E6%A5%AD_ipynb%E3%80%8D.ipynb\" target=\"_parent\"><img src=\"https://colab.research.google.com/assets/colab-badge.svg\" alt=\"Open In Colab\"/></a>"
      ]
    },
    {
      "cell_type": "markdown",
      "metadata": {
        "id": "8EULKBY-NNOz"
      },
      "source": [
        "#隨堂練習"
      ]
    },
    {
      "cell_type": "markdown",
      "metadata": {
        "id": "-DWgPfGOS8uj"
      },
      "source": [
        "##**課堂筆記**\r\n",
        "\r\n",
        "####電腦組成:硬體與軟體\r\n",
        "####輸入單元(input unit)，處理單元(processing unit)，記憶單元(memory unit)，輸出單元(output unit)\r\n",
        "####計算用硬體:CPU、FPU、GPU\r\n",
        "####買電腦可注意GPU\r\n",
        "####系統軟體 (system software):管理電腦內各種硬體單元必備的程式,負責做硬體與軟體間溝通的橋樑,支援電腦運作的程式,包括作業系統 (operating system)、公用程式 (utility)、程式開發工具 (program development tool)。\r\n",
        "####電腦軟硬體都是以「輸入-處理-輸出」為架構。\r\n",
        "####數據分析的程式語言:Python與R。\r\n",
        "####直譯與邊譯\r\n",
        "#**重點背起來!!!**\r\n",
        "##**運算思維** \r\n",
        "##**程式設計**\r\n",
        "##**程式編碼**\r\n",
        "##**測試與除錯**"
      ]
    },
    {
      "cell_type": "markdown",
      "metadata": {
        "id": "fyXL8eXxONgz"
      },
      "source": [
        "#課後練習"
      ]
    },
    {
      "cell_type": "markdown",
      "metadata": {
        "id": "jt6DLSk0Os0a"
      },
      "source": [
        "###**從一則新聞報導，提出你對新聞系（OO系）學生為什麼要學「運算思維與程式設計」的見解。（告訴我新聞連結，以及你的觀點即可。**"
      ]
    },
    {
      "cell_type": "markdown",
      "metadata": {
        "id": "gZt3ONRk0rBe"
      },
      "source": [
        "###https://udn.com/news/story/6904/4486806\r\n",
        "####我認為邏輯思考不只可以用在新聞系，還可以運用在日常生活中。相較過去的填鴨式教育，注重背誦方面的能力外，現在的趨勢更偏向於思考理解後，再將自己消化的東西重組，並輸出讓大家明白。不只是想法和說話，寫作也是需要思考編排後，才知道如何鋪陳和下筆，整體看起來，才會富有邏輯和通順的感覺。更何況，對新聞系的學生來說，整理歸納資訊的能力和寫作思考能力，更是缺一不可，畢竟產物是被大家所閱讀。"
      ]
    }
  ]
}