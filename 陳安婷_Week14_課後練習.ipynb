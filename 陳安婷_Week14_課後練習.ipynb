{
  "nbformat": 4,
  "nbformat_minor": 0,
  "metadata": {
    "colab": {
      "name": "陳安婷-Week14-課後練習.ipynb",
      "provenance": [],
      "authorship_tag": "ABX9TyN11iZMLpkYtPWU/rCTHpIy",
      "include_colab_link": true
    },
    "kernelspec": {
      "name": "python3",
      "display_name": "Python 3"
    },
    "language_info": {
      "name": "python"
    }
  },
  "cells": [
    {
      "cell_type": "markdown",
      "metadata": {
        "id": "view-in-github",
        "colab_type": "text"
      },
      "source": [
        "<a href=\"https://colab.research.google.com/github/A109010021/Computational-Thinking-and-Programming-Design/blob/main/%E9%99%B3%E5%AE%89%E5%A9%B7_Week14_%E8%AA%B2%E5%BE%8C%E7%B7%B4%E7%BF%92.ipynb\" target=\"_parent\"><img src=\"https://colab.research.google.com/assets/colab-badge.svg\" alt=\"Open In Colab\"/></a>"
      ]
    },
    {
      "cell_type": "markdown",
      "metadata": {
        "id": "43qeVNnw3aO5"
      },
      "source": [
        "**加分題: 棒打老虎雞吃蟲**"
      ]
    },
    {
      "cell_type": "code",
      "metadata": {
        "colab": {
          "base_uri": "https://localhost:8080/"
        },
        "id": "3nqhijr13hfW",
        "outputId": "6af5b571-f5df-4606-97d4-1efbcbf164ba"
      },
      "source": [
        "my_choice=int(input(\"請出拳[0]蟲[1]雞[2]老虎[3]棒子\"))\n",
        "print('你出的拳:',my_choice)\n",
        "import random\n",
        "com_choice=random.randint(0,3)\n",
        "print(\"電腦出拳為\",com_choice)\n",
        "if my_choice==((com_choice+1))%4:\n",
        "  print(\"我贏了\")\n",
        "elif com_choice==(my_choice+1)%4:\n",
        "  print(\"電腦贏了\")\n",
        "else:\n",
        "  print(\"平手\")"
      ],
      "execution_count": 3,
      "outputs": [
        {
          "output_type": "stream",
          "text": [
            "請出拳[0]蟲[1]雞[2]老虎[3]棒子3\n",
            "你出的拳: 3\n",
            "電腦出拳為 1\n",
            "平手\n"
          ],
          "name": "stdout"
        }
      ]
    }
  ]
}