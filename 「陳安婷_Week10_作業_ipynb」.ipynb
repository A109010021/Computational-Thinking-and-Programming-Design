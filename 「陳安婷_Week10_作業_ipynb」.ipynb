{
  "nbformat": 4,
  "nbformat_minor": 0,
  "metadata": {
    "kernelspec": {
      "display_name": "Python 3",
      "language": "python",
      "name": "python3"
    },
    "language_info": {
      "codemirror_mode": {
        "name": "ipython",
        "version": 3
      },
      "file_extension": ".py",
      "mimetype": "text/x-python",
      "name": "python",
      "nbconvert_exporter": "python",
      "pygments_lexer": "ipython3",
      "version": "3.8.5"
    },
    "colab": {
      "name": "「陳安婷-Week10-作業.ipynb」",
      "provenance": [],
      "include_colab_link": true
    }
  },
  "cells": [
    {
      "cell_type": "markdown",
      "metadata": {
        "id": "view-in-github",
        "colab_type": "text"
      },
      "source": [
        "<a href=\"https://colab.research.google.com/github/A109010021/Computational-Thinking-and-Programming-Design/blob/main/%E3%80%8C%E9%99%B3%E5%AE%89%E5%A9%B7_Week10_%E4%BD%9C%E6%A5%AD_ipynb%E3%80%8D.ipynb\" target=\"_parent\"><img src=\"https://colab.research.google.com/assets/colab-badge.svg\" alt=\"Open In Colab\"/></a>"
      ]
    },
    {
      "cell_type": "markdown",
      "metadata": {
        "id": "YYHBpYnivLeJ"
      },
      "source": [
        "# 基本程式設計(應用篇)"
      ]
    },
    {
      "cell_type": "markdown",
      "metadata": {
        "id": "w2R3VdqXvLeP"
      },
      "source": [
        "### 4-2 運算思維四個基石"
      ]
    },
    {
      "cell_type": "markdown",
      "metadata": {
        "id": "iEMi18Q4vLeQ"
      },
      "source": [
        "#### 4-2-4  問題拆解 - 打造你的聊天機器人"
      ]
    },
    {
      "cell_type": "markdown",
      "metadata": {
        "id": "251PgGIYvLeQ"
      },
      "source": [
        "「哈囉，大家好。我叫Zyxo64，是一個聊天機器人。\n",
        "\n",
        "在嗜好與興趣方面，我很喜歡美食，也喜歡養動物。\n",
        "\n",
        "很高興有機會來到世新大學，請大家多多指教。\n",
        "\n",
        "嗨！妳好，請問大名？：Francis。\n",
        "\n",
        "Francis，很高興認識你。"
      ]
    },
    {
      "cell_type": "code",
      "metadata": {
        "id": "jUvi9JVJvLeR",
        "colab": {
          "base_uri": "https://localhost:8080/"
        },
        "outputId": "2886e675-351c-4445-d700-2893c43a04a1"
      },
      "source": [
        "# 1.聊天機器人自我介紹\n",
        "\n",
        "\n",
        "# 2. 打招呼，取得對方名字\n",
        "print(\"哈囉，大家好。我叫Zyx01007，是一個聊天機器人。\")\n",
        "hobby=\"在嗜好與興趣方面，我很喜歡美食，也喜歡養寵物。\"\n",
        "print(hobby)\n",
        "print(\"很高興有機會來到世新大學，請大家多多指教。\")\n",
        "name=input(\"嗨!你好，請問大名?:\")\n",
        "print(name,\"很高興認識你。\")"
      ],
      "execution_count": null,
      "outputs": [
        {
          "output_type": "stream",
          "text": [
            "哈囉，大家好。我叫Zyx01007，是一個聊天機器人。\n",
            "在嗜好與興趣方面，我很喜歡美食，也喜歡養寵物。\n",
            "很高興有機會來到世新大學，請大家多多指教。\n",
            "嗨!你好，請問大名?:Veronica\n",
            "Veronica 很高興認識你。\n"
          ],
          "name": "stdout"
        }
      ]
    },
    {
      "cell_type": "markdown",
      "metadata": {
        "id": "8M7c4DHGvLeR"
      },
      "source": [
        "抱歉，請問一下今年是西元2021年，那是民國幾年呢？：*110*。\n",
        "\n",
        "對！沒錯，謝謝妳！\n",
        "\n",
        "**Francis**，猜猜看我今年幾歲？ ：**18**。\n",
        "\n",
        "哇！你好聰明，我今年的確*18*。\n",
        "\n",
        "再82年我就100歲了。\n",
        "\n",
        "那時候是西元 2103年，也就是民國192年囉！"
      ]
    },
    {
      "cell_type": "code",
      "metadata": {
        "id": "s_gBHpT4vLeR",
        "colab": {
          "base_uri": "https://localhost:8080/"
        },
        "outputId": "3e80af47-b890-46e3-fe1a-695630a5d964"
      },
      "source": [
        "# 3. 數學運算\n",
        "## 3-1 從使用者取得今年年份\n",
        "\n",
        "\n",
        "## 3-2 請使用者猜年齡\n",
        "\n",
        "## 3-3 計算聊天機器人滿100歲的年份\n",
        "year=input(\"抱歉，請問一下今年是西元2021年，那是民國幾年呢?\")\n",
        "print(\"對!沒錯，謝謝你!\")\n",
        "question=int(input(\"Franis，猜猜看我今年幾歲?\"))\n",
        "print(\"哇!你好聰明，我今年的確\",question)\n",
        "years=100-question\n",
        "print(\"我再,years,年就100歲了。\")\n",
        "print(\"到時候是西元\",int(year)+years+1911,\"年\")\n",
        "print(\"也就是民國\",int(year)+years,\"年\")"
      ],
      "execution_count": 1,
      "outputs": [
        {
          "output_type": "stream",
          "text": [
            "抱歉，請問一下今年是西元2021年，那是民國幾年呢?110\n",
            "對!沒錯，謝謝你!\n",
            "Franis，猜猜看我今年幾歲?18\n",
            "哇!你好聰明，我今年的確 18\n",
            "我再,years,年就100歲了。\n",
            "到時候是西元 2103 年\n",
            "也就是民國 192 年\n"
          ],
          "name": "stdout"
        }
      ]
    },
    {
      "cell_type": "markdown",
      "metadata": {
        "id": "Z0cnVYgBvLeS"
      },
      "source": [
        "我喜歡吃巧克力，也喜歡嘗試各種新食物。\n",
        "\n",
        "你呢？你最喜歡的食物是什麼？**:披薩**。\n",
        "\n",
        "我也喜歡 *披薩*。\n",
        "\n",
        "你多久吃一次 *披薩*？**：每天**。\n",
        "\n",
        "真有趣。不知道這樣對健康好不好。"
      ]
    },
    {
      "cell_type": "code",
      "metadata": {
        "id": "8lkpko6vvLeS",
        "colab": {
          "base_uri": "https://localhost:8080/"
        },
        "outputId": "42e61afa-7fec-4e1e-f04f-2db6da9fb6ef"
      },
      "source": [
        "# 4 興趣\n",
        "## 4-1 食物話題\n",
        "print(\"我喜歡吃巧克力，也喜歡嘗試各種食物。\")\n",
        "food=input(\"你呢?你最喜歡的食物是什麼?:\")\n",
        "print(\"我也喜歡\",food)\n",
        "question=\"你多久吃一次\"+food+\"?:\"\n",
        "howoften=input(question)\n",
        "print(\"真有趣。不知道對健康好不好!\")"
      ],
      "execution_count": null,
      "outputs": [
        {
          "output_type": "stream",
          "text": [
            "我喜歡吃巧克力，也喜歡嘗試各種食物。\n",
            "你呢?你最喜歡的食物是什麼?:蛋糕\n",
            "我也喜歡 蛋糕\n",
            "你多久吃一次蛋糕?:兩天三天\n",
            "真有趣。不知道對健康好不好!\n"
          ],
          "name": "stdout"
        }
      ]
    },
    {
      "cell_type": "markdown",
      "metadata": {
        "id": "-1vJ1P_KvLeS"
      },
      "source": [
        "我最喜歡的動物是長頸鹿。你呢？ **：烏龜**。\n",
        "\n",
        "我不喜歡*烏龜*！\n",
        "\n",
        "不知道 *烏龜* 喜不喜歡吃 *披薩*？"
      ]
    },
    {
      "cell_type": "code",
      "metadata": {
        "id": "kFqw3_ELvLeT",
        "colab": {
          "base_uri": "https://localhost:8080/"
        },
        "outputId": "cffceec9-9698-444c-bff4-e3a40d8aca9c"
      },
      "source": [
        "# 4 興趣\n",
        "## 4-2 動物話題\n",
        "animal=input(\"我最喜歡的動物是是熊貓。你呢?:\")\n",
        "print(\"我不喜歡\",animal)\n",
        "print(\"不知道\",animal,\"喜不喜歡吃\",\"蛋糕\",\"?\")"
      ],
      "execution_count": 8,
      "outputs": [
        {
          "output_type": "stream",
          "text": [
            "我最喜歡的動物是是熊貓。你呢?:蛇\n",
            "我不喜歡 蛇\n",
            "不知道 蛇 喜不喜歡吃 蛋糕 ?\n"
          ],
          "name": "stdout"
        }
      ]
    },
    {
      "cell_type": "markdown",
      "metadata": {
        "id": "eFVplkgBvLeT"
      },
      "source": [
        "你今天的心情如何？ **：很開心**。\n",
        "\n",
        "可以告訴我你 *開心* 的原因嗎？**因為週末了！** \n",
        "\n",
        "祝你週末愉快！\n",
        "\n",
        "我喜歡跟你聊天，現在有點累了，改天再聊吧！！\n",
        "\n",
        "再見 *Francis*！"
      ]
    },
    {
      "cell_type": "code",
      "metadata": {
        "id": "XcZ4pUP2vLeT",
        "colab": {
          "base_uri": "https://localhost:8080/"
        },
        "outputId": "e612fd7e-f370-49cb-e584-f1b220cd5e3a"
      },
      "source": [
        "# 5. 關於心情的對話\n",
        "feeling = input(\"你今天心情如何？:\")\n",
        "print(\"可以告訴我你\",feeling,\"的原因嗎?:\")\n",
        "print(\"祝你周末愉快!\")\n",
        "print(\"我喜歡跟你聊天，現在有點累了，下次再聊!!\")\n",
        "print(\"再見,Veronica\")"
      ],
      "execution_count": 6,
      "outputs": [
        {
          "output_type": "stream",
          "text": [
            "你今天心情如何？:開心\n",
            "可以告訴我你 開心 的原因嗎?:\n",
            "祝你周末愉快!\n",
            "我喜歡跟你聊天，現在有點累了，下次再聊!!\n",
            "再見,Veronica\n"
          ],
          "name": "stdout"
        }
      ]
    },
    {
      "cell_type": "markdown",
      "metadata": {
        "id": "6PWltq-1vLeT"
      },
      "source": [
        "\n",
        "我喜歡跟你聊天，現在有點累了，改天再聊吧！！\n",
        "\n",
        "再見 *Francis*！"
      ]
    },
    {
      "cell_type": "code",
      "metadata": {
        "id": "W-lTyFYUvLeU"
      },
      "source": [
        "# 6. 道別\n"
      ],
      "execution_count": null,
      "outputs": []
    },
    {
      "cell_type": "code",
      "metadata": {
        "colab": {
          "base_uri": "https://localhost:8080/"
        },
        "id": "t1AwG53DiPw6",
        "outputId": "9293b9cf-64c3-4ca3-ae73-cde6cdda7050"
      },
      "source": [
        "print(\"我喜歡跟你聊天，現在有點累了，下次再聊!!\")\n",
        "print(\"再見,Veronica\")"
      ],
      "execution_count": 5,
      "outputs": [
        {
          "output_type": "stream",
          "text": [
            "我喜歡跟你聊天，現在有點累了，下次再聊!!\n",
            "再見,Veronica\n"
          ],
          "name": "stdout"
        }
      ]
    },
    {
      "cell_type": "markdown",
      "metadata": {
        "id": "Wv4IXJRPvLeU"
      },
      "source": [
        "## 期末報告"
      ]
    },
    {
      "cell_type": "markdown",
      "metadata": {
        "id": "ghiGdCfnvLeU"
      },
      "source": [
        "### 組長(學號姓名):\n",
        "\n"
      ]
    },
    {
      "cell_type": "markdown",
      "metadata": {
        "id": "j2JxmgAGvLeU"
      },
      "source": [
        "### 組員(學號姓名):\n",
        "\n"
      ]
    },
    {
      "cell_type": "markdown",
      "metadata": {
        "id": "hNLLma6kvLeU"
      },
      "source": [
        "### 題目:"
      ]
    },
    {
      "cell_type": "markdown",
      "metadata": {
        "id": "xAYy7KPCvLeV"
      },
      "source": [
        "### 百字腳本\n",
        "\n"
      ]
    }
  ]
}