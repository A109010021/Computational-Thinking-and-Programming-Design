{
  "nbformat": 4,
  "nbformat_minor": 0,
  "metadata": {
    "kernelspec": {
      "display_name": "Python 3",
      "language": "python",
      "name": "python3"
    },
    "language_info": {
      "codemirror_mode": {
        "name": "ipython",
        "version": 3
      },
      "file_extension": ".py",
      "mimetype": "text/x-python",
      "name": "python",
      "nbconvert_exporter": "python",
      "pygments_lexer": "ipython3",
      "version": "3.8.5"
    },
    "colab": {
      "name": "田弘華 - Week11 -作業題目 (2).ipynb",
      "provenance": [],
      "include_colab_link": true
    }
  },
  "cells": [
    {
      "cell_type": "markdown",
      "metadata": {
        "id": "view-in-github",
        "colab_type": "text"
      },
      "source": [
        "<a href=\"https://colab.research.google.com/github/A109010021/Computational-Thinking-and-Programming-Design/blob/main/%E7%94%B0%E5%BC%98%E8%8F%AF_Week11_%E4%BD%9C%E6%A5%AD%E9%A1%8C%E7%9B%AE_(2).ipynb\" target=\"_parent\"><img src=\"https://colab.research.google.com/assets/colab-badge.svg\" alt=\"Open In Colab\"/></a>"
      ]
    },
    {
      "cell_type": "markdown",
      "metadata": {
        "id": "XXU9QHNvX6kz"
      },
      "source": [
        "**隨堂練習 1：請輸入身分證字號，並判斷尾數是否為奇數?** "
      ]
    },
    {
      "cell_type": "code",
      "metadata": {
        "colab": {
          "base_uri": "https://localhost:8080/"
        },
        "id": "EIlxkcw4X6k5",
        "outputId": "34e68c62-3c76-48b7-c5d9-09ad8c2623a0"
      },
      "source": [
        "id_people=input(\"請輸入您身分證字號的尾數\")\n",
        "ans=int(id_people)%2==1\n",
        "print(\"身分證尾數除以2是否為1:\",ans)"
      ],
      "execution_count": 1,
      "outputs": [
        {
          "output_type": "stream",
          "text": [
            "請輸入您身分證字號的尾數7\n",
            "身分證尾數除以2是否為1: True\n"
          ],
          "name": "stdout"
        }
      ]
    },
    {
      "cell_type": "markdown",
      "metadata": {
        "id": "vLrud2x1X6k6"
      },
      "source": [
        "**回家作業**\n",
        "\n",
        "組長: \n",
        "###A109010021 陳安婷\n",
        " \n",
        "組員:\n",
        "###A109010024 張佳倪\n",
        "###A109010114 鍾秉哲\n",
        "###A109010171 方嘉琳\n",
        "\n",
        "期末報告題目: \n",
        "\n",
        "###提供新生學校早餐資訊\n",
        "\n",
        "百字腳本初稿:\n",
        "\n",
        "\n",
        "\n",
        "(Note: **用電腦解決問題，你要解決的問題就是你的題目；解決問題的方法是什麼，請設計用對話方式讓我們知道答案。**\n",
        "\n",
        "在日常生活中，所有與客服有關的事情，都可以自動化改用對話機器人處理。例如:你去銀行櫃台詢問存錢事宜，你去系辦詢問選課事宜，你去餐廳詢問點餐事宜等等。這些例子都是針對一個問題，透過你和客服互動對話後解決。將與這些真人的客服對話自動化後，就變成對話機器人。對話機器人是目前全世界最熱門的商業互動模式，也是未來世界的趨勢。)\n",
        "\n",
        "\n",
        "####即將進入新生升上大學的時節，所以我們希望做出一個程式，可以替新生解決問題，讓他們在無人可問、人生地不熟的時候，還有方法解決遇到三餐煩惱的難題。\n",
        "\n",
        "####Robert:Hi,你好，我是Shu。請問有什麼我可以幫你的嗎?\n",
        "####New_student:請問學校附近有什麼好吃的早餐店嗎?\n",
        "####Robert:你真內行，問我就對了!學校後門有一條早餐街，有吉得堡、佳蒂、米樂等等供你選擇。吉得堡的義大利麵和花生醬豬排吐司超級推!佳蒂的薯餅蛋捲便宜又好吃，米樂的抹茶厚片和薯餅蛋餅必點不可!飲料的部分大同小異，看你自己怎麼決定。\n",
        "####New_student:那我想要吃吉得堡，請問現在是否有營業呢?\n",
        "####Robert:是的，現在營業中呦!吉得堡從早上7:00開到下午3:00。\n",
        "####New_student:好的，我知道了!謝謝你。我今天想吃義大利麵加大冰奶，這樣總共多少錢呢?\n",
        "####Robert:義大利麵40元，大冰奶25元，這樣總共65元。\n",
        "####New_student:不好意思，我數學不太好，我身上只有一張500元大鈔，這樣他要找我多少錢呢?\n",
        "####Robert:他要找你500元-65元，所以是435元。\n",
        "####New_student:好的，我明白了，謝謝你，有你真好!"
      ]
    }
  ]
}